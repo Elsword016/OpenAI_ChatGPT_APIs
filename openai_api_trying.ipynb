{
 "cells": [
  {
   "cell_type": "code",
   "execution_count": 2,
   "metadata": {},
   "outputs": [],
   "source": [
    "import openai \n",
    "import os\n",
    "import re \n",
    "import tkinter as tk\n",
    "from tkinter import ttk"
   ]
  },
  {
   "cell_type": "code",
   "execution_count": 3,
   "metadata": {},
   "outputs": [],
   "source": [
    "#API authentication\n",
    "openai.api_key = '<<Your API Key>>'"
   ]
  },
  {
   "cell_type": "code",
   "execution_count": null,
   "metadata": {},
   "outputs": [],
   "source": [
    "def ask_gpt(prompt, model, temperature=0.7, max_tokens=100):\n",
    "    response = openai.ChatCompletion.create(\n",
    "        engine=model,\n",
    "        prompt=prompt,\n",
    "        temperature=temperature,        #### hyperparameter\n",
    "        max_tokens=max_tokens,          #### hyperparams\n",
    "        n=1,\n",
    "        stop=None,\n",
    "        frequency_penalty=0,\n",
    "        presence_penalty=0\n",
    "    )\n",
    "\n",
    "    message = response.choices[0].text.strip()\n",
    "    return message\n",
    "\n",
    "# define function for personal assistant app\n",
    "def personal_assistant():\n",
    "    # greet the user\n",
    "    print(\"Hello, I'm your personal assistant. How can I assist you today?\")\n",
    "\n",
    "    # loop to ask user for input and provide response\n",
    "    while True:\n",
    "        prompt = input(\"> \")\n",
    "\n",
    "        # exit app if user types \"bye\"\n",
    "        if prompt.lower() == \"bye\":\n",
    "            print(\"Goodbye!\")\n",
    "            break\n",
    "\n",
    "        # get response from ChatGPT\n",
    "        response = ask_gpt(prompt, \"text-davinci-003\")\n",
    "\n",
    "        # print response\n",
    "        print(response)\n",
    "\n",
    "# call personal assistant function\n",
    "personal_assistant()"
   ]
  },
  {
   "cell_type": "code",
   "execution_count": 33,
   "metadata": {},
   "outputs": [],
   "source": [
    "def new_gpt(temperature=0.7, max_tokens=100):\n",
    "    engine = 'gpt-3.5-turbo'\n",
    "    messages = []\n",
    "\n",
    "    #system prompt\n",
    "    messages.append({\"role\": \"system\", \"content\": \"Welcome to ChatGPT API\"})\n",
    "\n",
    "    #user prompt\n",
    "    while True:\n",
    "        user_input = input(\"user: \")\n",
    "        messages.append({\"role\": \"user\", \"content\": user_input})\n",
    "        #Get response\n",
    "        response = openai.ChatCompletion.create(model=engine, messages=messages,\n",
    "        temperature=temperature,\n",
    "        max_tokens=max_tokens,\n",
    "        n=1,\n",
    "        stop=None)\n",
    "\n",
    "        #add response to messages\n",
    "        messages.append({\"role\": \"assistant\", \"content\": response['choices'][0]['message']['content']})\n",
    "\n",
    "        #print response\n",
    "        for i in messages:\n",
    "            print(f\"{i['role']}: {i['content']}\")\n",
    "        \n",
    "        #exit if user types bye\n",
    "        if user_input.lower() == \"bye\":\n",
    "            break"
   ]
  }
 ],
 "metadata": {
  "kernelspec": {
   "display_name": "Python 3.9.15 ('working')",
   "language": "python",
   "name": "python3"
  },
  "language_info": {
   "codemirror_mode": {
    "name": "ipython",
    "version": 3
   },
   "file_extension": ".py",
   "mimetype": "text/x-python",
   "name": "python",
   "nbconvert_exporter": "python",
   "pygments_lexer": "ipython3",
   "version": "3.9.15"
  },
  "orig_nbformat": 4,
  "vscode": {
   "interpreter": {
    "hash": "11242012bb2bbaed9ab41e646dbb7d2cb06a6633762a7ee8ceab1e508cf89ab7"
   }
  }
 },
 "nbformat": 4,
 "nbformat_minor": 2
}
