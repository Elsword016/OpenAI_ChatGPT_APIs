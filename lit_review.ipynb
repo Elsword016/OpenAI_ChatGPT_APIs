{
 "cells": [
  {
   "cell_type": "code",
   "execution_count": 1,
   "metadata": {},
   "outputs": [],
   "source": [
    "import openai\n",
    "import os\n",
    "import pandas as pd \n",
    "import gradio as gr "
   ]
  },
  {
   "cell_type": "code",
   "execution_count": 2,
   "metadata": {},
   "outputs": [],
   "source": [
    "openai.api_key = 'YOUR API KEY'"
   ]
  },
  {
   "cell_type": "code",
   "execution_count": 3,
   "metadata": {},
   "outputs": [],
   "source": [
    "def gen_review(prompt,max_tokens=2000,temperature=0):\n",
    "    engine = 'gpt-3.5-turbo'\n",
    "    messages = []\n",
    "    messages.append({\"role\": \"system\", \"content\": 'Literature review'})\n",
    "    #userprompt\n",
    "    messages.append({\"role\": \"user\", \"content\": f'Generate a literature review for {prompt}. Be as detailed as possible and keep the tone of the review formal and academic.'})\n",
    "    reponse = openai.ChatCompletion.create(model = engine, messages = messages, temperature = temperature, max_tokens = max_tokens, n = 1, stop = None)\n",
    "    return reponse['choices'][0]['message']['content']"
   ]
  },
  {
   "cell_type": "code",
   "execution_count": 4,
   "metadata": {},
   "outputs": [],
   "source": [
    "top_inp = input(\"Enter the topic of the literature review: \")\n",
    "review_gen = gen_review(top_inp)"
   ]
  },
  {
   "cell_type": "code",
   "execution_count": 6,
   "metadata": {},
   "outputs": [
    {
     "name": "stdout",
     "output_type": "stream",
     "text": [
      "Literature Review: Relationship between eye tracking and decision making under time constraints\n",
      "\n",
      "\n",
      "Introduction:\n",
      "\n",
      "Eye tracking technology has been widely used in various fields such as psychology, marketing, and human-computer interaction. One of the most interesting applications of eye tracking is in the study of decision making under time constraints. This literature review aims to explore the relationship between eye tracking and decision making under time constraints.\n",
      "\n",
      "Eye tracking and decision making:\n",
      "\n",
      "Eye tracking technology has been used to investigate the cognitive processes involved in decision making. Studies have shown that eye movements can provide valuable information about the decision-making process, such as the attentional focus, the information search strategy, and the decision-making strategy. For example, a study by Glaholt and Reingold (2009) found that participants who made faster decisions in a visual search task had shorter fixation durations and fewer fixations than those who made slower decisions. This suggests that faster decision makers may have a more efficient information search strategy.\n",
      "\n",
      "Eye tracking and time constraints:\n",
      "\n",
      "Time constraints are a common feature of many decision-making situations, such as in sports, military operations, and emergency situations. Studies have shown that time constraints can have a significant impact on decision making. For example, a study by Lohse et al. (2010) found that time pressure led to a decrease in decision quality and an increase in fixation duration in a simulated firefighting task. This suggests that time pressure can disrupt the decision-making process and lead to suboptimal decisions.\n",
      "\n",
      "Relationship between eye tracking and decision making under time constraints:\n",
      "\n",
      "Several studies have investigated the relationship between eye tracking and decision making under time constraints. For example, a study by van der Meer et al. (2010) found that eye movements were predictive of decision quality in a simulated air traffic control task under time pressure. Participants who made more fixations on relevant information made better decisions than those who made fewer fixations. This suggests that eye movements can provide valuable information about the decision-making process even under time pressure.\n",
      "\n",
      "Another study by Hwang et al. (2017) investigated the effect of time pressure on the relationship between eye movements and decision making in a simulated driving task. They found that time pressure led to a decrease in the number of fixations and an increase in the duration of fixations. However, the relationship between eye movements and decision making remained consistent under time pressure. This suggests that eye movements can still provide valuable information about the decision-making process even when time is limited.\n",
      "\n",
      "Conclusion:\n",
      "\n",
      "In conclusion, eye tracking technology has been shown to be a valuable tool for investigating the cognitive processes involved in decision making under time constraints. Studies have shown that eye movements can provide valuable information about the decision-making process, such as the attentional focus, the information search strategy, and the decision-making strategy. Furthermore, eye movements can still provide valuable information even when time is limited. Future research should continue to explore the relationship between eye tracking and decision making under time constraints in various contexts.\n"
     ]
    }
   ],
   "source": [
    "print(\"Literature Review:\",top_inp)\n",
    "print(review_gen)"
   ]
  },
  {
   "cell_type": "code",
   "execution_count": null,
   "metadata": {},
   "outputs": [],
   "source": []
  }
 ],
 "metadata": {
  "kernelspec": {
   "display_name": "Python 3.9.15 ('working')",
   "language": "python",
   "name": "python3"
  },
  "language_info": {
   "codemirror_mode": {
    "name": "ipython",
    "version": 3
   },
   "file_extension": ".py",
   "mimetype": "text/x-python",
   "name": "python",
   "nbconvert_exporter": "python",
   "pygments_lexer": "ipython3",
   "version": "3.9.15"
  },
  "orig_nbformat": 4,
  "vscode": {
   "interpreter": {
    "hash": "11242012bb2bbaed9ab41e646dbb7d2cb06a6633762a7ee8ceab1e508cf89ab7"
   }
  }
 },
 "nbformat": 4,
 "nbformat_minor": 2
}
